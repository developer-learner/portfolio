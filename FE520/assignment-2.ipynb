{
 "cells": [
  {
   "cell_type": "code",
   "execution_count": 16,
   "metadata": {},
   "outputs": [
    {
     "name": "stdout",
     "output_type": "stream",
     "text": [
      "123443210\n",
      "012344321\n",
      "False\n"
     ]
    }
   ],
   "source": [
    "# Notice: do not change these function name\n",
    "def is_palindrome(x):\n",
    "    pass\n",
    "    # add your code here\n",
    "    \n",
    "    #Checks if the input is a valid integer\n",
    "    if not isinstance(x, int) :\n",
    "        print(\"Input is not an integer. Try again\")\n",
    "        return\n",
    "    #Converts integer input to string for ease of reversing the order of digits\n",
    "    strx = str(x)\n",
    "    print(strx)\n",
    "    \n",
    "    #Reverses the string by slicing with negative step\n",
    "    reverse_str = strx[::-1]\n",
    "    print(reverse_str)\n",
    "    \n",
    "    #Checks if string and reversed string are an exact match and returns True or False statement\n",
    "    if strx == reverse_str:\n",
    "        return True\n",
    "    else :\n",
    "        return False\n",
    "    \n",
    "if __name__ == \"__main__\":\n",
    "    print(is_palindrome(123443210))"
   ]
  },
  {
   "cell_type": "code",
   "execution_count": null,
   "metadata": {},
   "outputs": [],
   "source": [
    "#Exercise 2"
   ]
  },
  {
   "cell_type": "code",
   "execution_count": 32,
   "metadata": {},
   "outputs": [
    {
     "name": "stdout",
     "output_type": "stream",
     "text": [
      "False\n"
     ]
    }
   ],
   "source": [
    "def is_anagrams(s, t):\n",
    "    # Assuming the strings s and t are all in lowercase and there is no need to convert case\n",
    "    \n",
    "    # If strings are of different length, we can confirm they are not anagrams\n",
    "    if len(s) != len(t) :\n",
    "        return False\n",
    "    \n",
    "    # Loop through each character of first string s and check if it present in second string t\n",
    "    for si in s:\n",
    "        if si in t:\n",
    "            t = t.translate({ord(si): None}) # Remove a matched character from string t to ensure character counts are same in both strings\n",
    "        else :\n",
    "            return False\n",
    "    return True\n",
    "\n",
    "if __name__ == \"__main__\":\n",
    "    print(is_anagrams(\"mangom\", \"angoma\"))"
   ]
  },
  {
   "cell_type": "code",
   "execution_count": null,
   "metadata": {},
   "outputs": [],
   "source": [
    "# Exercise 3"
   ]
  },
  {
   "cell_type": "code",
   "execution_count": 34,
   "metadata": {},
   "outputs": [
    {
     "name": "stdout",
     "output_type": "stream",
     "text": [
      "['I', 'love', 'python', '', 'I', \"don't\", 'know', 'why', '']\n"
     ]
    }
   ],
   "source": [
    "import re\n",
    "def top_k_words(s, k):\n",
    "    # Break the string s into word set\n",
    "    word_list = re.split('[ \\\"\\\\?:;.,!#$%+]',s)\n",
    "    print(word_list)\n",
    "    \n",
    "if __name__ == \"__main__\":\n",
    "    x = \"I love python, I don't know why?\"\n",
    "    top_k_words(x, 3)"
   ]
  },
  {
   "cell_type": "code",
   "execution_count": 46,
   "metadata": {},
   "outputs": [
    {
     "name": "stdout",
     "output_type": "stream",
     "text": [
      "['I', 'love', 'python', 'I', \"don't\", 'know', 'why', 'someone', 'love', 'python', 'I', 'think', 'so']\n",
      "['I', 'love', 'python', 'I', \"don't\", 'know', 'why', 'someone', 'love', 'python', 'I', 'think', 'so']\n",
      "{'I': 3, 'love': 2, 'python': 2, \"don't\": 1, 'know': 1, 'why': 1, 'someone': 1, 'think': 1, 'so': 1}\n",
      "{\"don't\": 1, 'know': 1, 'why': 1, 'someone': 1, 'think': 1, 'so': 1, 'love': 2, 'python': 2, 'I': 3}\n"
     ]
    }
   ],
   "source": [
    "import re\n",
    "def top_k_words(s, k):\n",
    "    # Break the string s into word set\n",
    "    s = re.sub(\"[,:;\\.\\?!%]\",\"\", s)\n",
    "    word_list = s.split(' ')\n",
    "    print(word_list)\n",
    "    #for word in word_list :\n",
    "       # re.sub(\"[^a-z0-9]\", \"\", word[-1])\n",
    "    print(word_list)\n",
    "    \n",
    "    count = {}\n",
    "    for word in word_list:\n",
    "        if word in count.keys():\n",
    "            count[word] += 1\n",
    "        else :\n",
    "            count[word] = 1\n",
    "    print(count)\n",
    "    \n",
    "    z = {k: v for k, v in sorted(count.items(), key=lambda item: item[1])}\n",
    "    print(z)\n",
    "    top_k_list = []\n",
    "    max_count = 0\n",
    "    for key in count :\n",
    "        if count[key] > max_count :\n",
    "            max_count = count[key]\n",
    "            top_k_list\n",
    "    #for i in range(k):\n",
    "        \n",
    "    \n",
    "if __name__ == \"__main__\":\n",
    "    x = \"I love. python, I% don't know! why? someone love python, I think so\"\n",
    "    top_k_words(x, 3)"
   ]
  },
  {
   "cell_type": "code",
   "execution_count": 56,
   "metadata": {},
   "outputs": [
    {
     "name": "stdout",
     "output_type": "stream",
     "text": [
      "i love python, he love coding python; the course is about python..\n",
      "['i', 'love', 'python', 'he', 'love', 'coding', 'python', 'the', 'course', 'is', 'about', 'python']\n",
      "{'i': 1, 'love': 2, 'python': 3, 'he': 1, 'coding': 1, 'the': 1, 'course': 1, 'is': 1, 'about': 1}\n",
      "{'python': 3, 'love': 2, 'i': 1, 'he': 1, 'coding': 1, 'the': 1, 'course': 1, 'is': 1, 'about': 1}\n",
      "['python', 'love', 'i']\n"
     ]
    }
   ],
   "source": [
    "import re\n",
    "import operator\n",
    "def top_k_words(s, k):\n",
    "    print(s)\n",
    "    clean_string = \"\"\n",
    "    clean_string = re.sub('[^A-Za-z0-9 \\'-]+', '', s)\n",
    "    word_list = clean_string.split()\n",
    "    print(word_list)\n",
    "    count_dict = {}\n",
    "    for word in word_list :\n",
    "        if word in count_dict.keys():\n",
    "            count_dict[word] += 1\n",
    "        else :\n",
    "            count_dict[word] = 1\n",
    "    print(count_dict)\n",
    "    sort_dict = dict(sorted(count_dict.items(), key=operator.itemgetter(1), reverse=True))\n",
    "    print(sort_dict)\n",
    "    top_k_words = list(sort_dict)[:k]\n",
    "    print(top_k_words)\n",
    "    return top_k_words\n",
    "        \n",
    "\n",
    "if __name__ == \"__main__\":\n",
    "    s = \"i love python, he love coding python; the course is about python..\"\n",
    "    top_k_words(s,3)"
   ]
  },
  {
   "cell_type": "code",
   "execution_count": null,
   "metadata": {},
   "outputs": [],
   "source": [
    "#Exercise 4"
   ]
  },
  {
   "cell_type": "code",
   "execution_count": 60,
   "metadata": {},
   "outputs": [
    {
     "name": "stdout",
     "output_type": "stream",
     "text": [
      "52.816639894324545 68.05971340716786\n"
     ]
    }
   ],
   "source": [
    "#Defines list x and y as the given dataset of independent and dependent variable respectively\n",
    "x = [[0.18], [1.0], [0.92], [0.07], [0.85], [0.99], [0.87]]\n",
    "\n",
    "y = [[109.85], [155.72], [137.66], [76.17], [139.75], [162.6], [151.77]]\n",
    "\n",
    "# Defines a function that performs gradient descent calculation\n",
    "def gradient_descent(x, y, m, c, epochs, L=0.001):\n",
    "    # Assumes initial values for m,c and L\n",
    "    m = 0 #Slope of line\n",
    "    c = 0 #y intercept of line\n",
    "    L = 0.001 #Learning rate\n",
    "\n",
    "    #calculates the length of the input x list\n",
    "    n = len(x)\n",
    "\n",
    "    #Performs number of loops as provided by variable epochs \n",
    "    for z in range(epochs):\n",
    "        #Defines predictive dependent variable ypred list, calculated from formula.\n",
    "        ypred = []\n",
    "        #Defines empty list Dm and Dc\n",
    "        Dm = []\n",
    "        Dc = []\n",
    "        #Loops for length of the x list, calculates predicted values for y\n",
    "        #Appends calculated values to Dm and Dc list\n",
    "        for i in range(n) :\n",
    "            ypred.append([x[i][0]*m + c])\n",
    "            Dm.append(x[i][0]*(ypred[i][0]-y[i][0]))\n",
    "            Dc.append(ypred[i][0]-y[i][0])\n",
    "\n",
    "        #Defines sum of element in Dm and Dc\n",
    "        sumDm = 0\n",
    "        sumDc = 0\n",
    "        #Loops and sums the values in Dm and Dc\n",
    "        for i in range(n) :\n",
    "            sumDm += Dm[i]\n",
    "            sumDc += Dc[i]\n",
    "\n",
    "        #calculates average value of elements of Dm and Dc\n",
    "        dm = sumDm / n\n",
    "        dc = sumDc / n\n",
    "\n",
    "        #Based on values of dm and dc, updates new values of m and c\n",
    "        m = m - L*dm\n",
    "        c = c - L*dc\n",
    "\n",
    "        #Prints the current value of m and c\n",
    "    print(m,c)\n",
    "    return (m,c)\n",
    "    \n",
    "if __name__ == \"__main__\":\n",
    "    gradient_descent(x, y, m, c, 1000, L=0.001)"
   ]
  },
  {
   "cell_type": "code",
   "execution_count": 61,
   "metadata": {},
   "outputs": [
    {
     "name": "stdout",
     "output_type": "stream",
     "text": [
      "\n",
      "Q1\n"
     ]
    },
    {
     "ename": "NameError",
     "evalue": "name 'is_palindrome' is not defined",
     "output_type": "error",
     "traceback": [
      "\u001b[1;31m---------------------------------------------------------------------------\u001b[0m",
      "\u001b[1;31mNameError\u001b[0m                                 Traceback (most recent call last)",
      "\u001b[1;32m<ipython-input-61-8da8f843db11>\u001b[0m in \u001b[0;36m<module>\u001b[1;34m\u001b[0m\n\u001b[0;32m      7\u001b[0m     \u001b[0mq1_test2\u001b[0m \u001b[1;33m=\u001b[0m \u001b[1;33m-\u001b[0m\u001b[1;36m121\u001b[0m\u001b[1;33m\u001b[0m\u001b[1;33m\u001b[0m\u001b[0m\n\u001b[0;32m      8\u001b[0m     \u001b[0mq1_test3\u001b[0m \u001b[1;33m=\u001b[0m \u001b[1;36m0\u001b[0m\u001b[1;33m\u001b[0m\u001b[1;33m\u001b[0m\u001b[0m\n\u001b[1;32m----> 9\u001b[1;33m     \u001b[0mq1_answer1\u001b[0m \u001b[1;33m=\u001b[0m \u001b[0mis_palindrome\u001b[0m\u001b[1;33m(\u001b[0m\u001b[0mq1_test1\u001b[0m\u001b[1;33m)\u001b[0m\u001b[1;33m\u001b[0m\u001b[1;33m\u001b[0m\u001b[0m\n\u001b[0m\u001b[0;32m     10\u001b[0m     \u001b[0mq1_answer2\u001b[0m \u001b[1;33m=\u001b[0m \u001b[0mis_palindrome\u001b[0m\u001b[1;33m(\u001b[0m\u001b[0mq1_test2\u001b[0m\u001b[1;33m)\u001b[0m\u001b[1;33m\u001b[0m\u001b[1;33m\u001b[0m\u001b[0m\n\u001b[0;32m     11\u001b[0m     \u001b[0mq1_answer3\u001b[0m \u001b[1;33m=\u001b[0m \u001b[0mis_palindrome\u001b[0m\u001b[1;33m(\u001b[0m\u001b[0mq1_test3\u001b[0m\u001b[1;33m)\u001b[0m\u001b[1;33m\u001b[0m\u001b[1;33m\u001b[0m\u001b[0m\n",
      "\u001b[1;31mNameError\u001b[0m: name 'is_palindrome' is not defined"
     ]
    }
   ],
   "source": [
    "if __name__ == \"__main__\":  \n",
    "    \n",
    "    # Test Question 1\n",
    "    \n",
    "    print(\"\\nQ1\")\n",
    "    q1_test1 = 121\n",
    "    q1_test2 = -121\n",
    "    q1_test3 = 0\n",
    "    q1_answer1 = is_palindrome(q1_test1)\n",
    "    q1_answer2 = is_palindrome(q1_test2)\n",
    "    q1_answer3 = is_palindrome(q1_test3)\n",
    "    print(q1_answer1 )\n",
    "    print(\"right answer: True\")\n",
    "    print(\"--------------\")\n",
    "    print(q1_answer2)\n",
    "    print(\"right answer: False\")\n",
    "    print(\"--------------\")\n",
    "    print(q1_answer3)\n",
    "    print(\"right answer: True\")\n",
    "\n",
    "    \n",
    "    print(\"\\nQ2\")\n",
    "    q2_test1_s = \"anagram\"\n",
    "    q2_test1_t = \"nagaram\"\n",
    "    q2_answer1 =  is_anagrams(q2_test1_s, q2_test1_t)\n",
    "    print(q2_answer1)\n",
    "    print(\"right answer: True\")\n",
    "\n",
    "    print(\"--------------\")\n",
    "    q2_test2_s = \"python\"\n",
    "    q2_test2_t = \"py\"\n",
    "    q2_answer2 =  is_anagrams(q2_test2_s, q2_test2_t)\n",
    "    print(q2_answer2)\n",
    "    print(\"right answer: False\")\n",
    "    print(\"--------------\")\n",
    "\n",
    "    # test question 3\n",
    "    print(\"\\nQ3\")\n",
    "    q3_test1_s = \"   i love python, he    love coding python. the course is about python. \"\n",
    "    q3_test1_k = 2\n",
    "    q3_answer = top_k_words(q3_test1_s, q3_test1_k)\n",
    "    print(q3_answer)\n",
    "    print(\"right: answer:\")\n",
    "    print(\"['python', 'love']\")\n",
    "\n",
    "    print (\"\\nQ4\")\n",
    "\n",
    "    x = [[0.18], [1.0], [0.92], [0.07], [0.85], [0.99], [0.87]]\n",
    "    y = [109.85, 155.72, 137.66, 76.17, 139.75, 162.6, 151.77]\n",
    "    m = 0\n",
    "    c = 0\n",
    "    q4_epochs200 = 200\n",
    "    q4_epochs500 = 500\n",
    "    q4_epochs1000 = 1000\n",
    "    q4_epochs2000 = 2000\n",
    "    q4_epochs3000 = 3000\n",
    "    q4_answer1 = gradient_descent(x,y,m,c,q4_epochs200)\n",
    "    q4_answer2 = gradient_descent(x,y,m,c,q4_epochs500)\n",
    "    q4_answer3 = gradient_descent(x,y,m,c,q4_epochs1000)\n",
    "    q4_answer4 = gradient_descent(x,y,m,c,q4_epochs2000)\n",
    "    q4_answer5 = gradient_descent(x,y,m,c,q4_epochs3000)\n",
    "    print(q4_answer1)\n",
    "    print(\"right answer:\")\n",
    "    print(\"17.724810647355827, 22.97599012903927\")\n",
    "    print(\"--------------\")\n",
    "    print(q4_answer2)\n",
    "    print(\"right answer:\")\n",
    "    print(\"35.97890301691016, 46.54235227399102\")\n",
    "    print(\"--------------\")\n",
    "    print(q4_answer3)\n",
    "    print(\"right answer:\")\n",
    "    print(\"52.816639894324545, 68.05971340716786\")\n",
    "    print(\"--------------\")\n",
    "    print(q4_answer4)\n",
    "    print(\"right answer:\")\n",
    "    print(\"64.56549666509812, 82.46678636085996\")\n",
    "    print(\"--------------\")\n",
    "    print(q4_answer5)\n",
    "    print(\"right answer:\")\n",
    "    print(\"67.42648874428104, 85.32444456113602\")\n",
    "    print(\"--------------\")"
   ]
  },
  {
   "cell_type": "code",
   "execution_count": null,
   "metadata": {},
   "outputs": [],
   "source": []
  }
 ],
 "metadata": {
  "kernelspec": {
   "display_name": "Python 3",
   "language": "python",
   "name": "python3"
  },
  "language_info": {
   "codemirror_mode": {
    "name": "ipython",
    "version": 3
   },
   "file_extension": ".py",
   "mimetype": "text/x-python",
   "name": "python",
   "nbconvert_exporter": "python",
   "pygments_lexer": "ipython3",
   "version": "3.8.5"
  }
 },
 "nbformat": 4,
 "nbformat_minor": 4
}
