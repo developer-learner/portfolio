{
 "cells": [
  {
   "cell_type": "code",
   "execution_count": 16,
   "metadata": {},
   "outputs": [
    {
     "name": "stdout",
     "output_type": "stream",
     "text": [
      "123443210\n",
      "012344321\n",
      "False\n"
     ]
    }
   ],
   "source": [
    "# Notice: do not change these function name\n",
    "def is_palindrome(x):\n",
    "    pass\n",
    "    # add your code here\n",
    "    \n",
    "    #Checks if the input is a valid integer\n",
    "    if not isinstance(x, int) :\n",
    "        print(\"Input is not an integer. Try again\")\n",
    "        return\n",
    "    #Converts integer input to string for ease of reversing the order of digits\n",
    "    strx = str(x)\n",
    "    print(strx)\n",
    "    \n",
    "    #Reverses the string by slicing with negative step\n",
    "    reverse_str = strx[::-1]\n",
    "    print(reverse_str)\n",
    "    \n",
    "    #Checks if string and reversed string are an exact match and returns True or False statement\n",
    "    if strx == reverse_str:\n",
    "        return True\n",
    "    else :\n",
    "        return False\n",
    "    \n",
    "if __name__ == \"__main__\":\n",
    "    print(is_palindrome(123443210))"
   ]
  },
  {
   "cell_type": "code",
   "execution_count": null,
   "metadata": {},
   "outputs": [],
   "source": [
    "#Exercise 2"
   ]
  },
  {
   "cell_type": "code",
   "execution_count": 32,
   "metadata": {},
   "outputs": [
    {
     "name": "stdout",
     "output_type": "stream",
     "text": [
      "False\n"
     ]
    }
   ],
   "source": [
    "def is_anagrams(s, t):\n",
    "    # add your code here\n",
    "    pass\n",
    "    # Assuming the strings s and t are all in lowercase and there are no worries of converting case\n",
    "    \n",
    "    # If strings are of different length, we can confirm they are not anagrams\n",
    "    if len(s) != len(t) :\n",
    "        return False\n",
    "    \n",
    "    # Loop through each character of first string s and check if it present in second string t\n",
    "    for si in s:\n",
    "        if si in t:\n",
    "            t = t.translate({ord(si): None}) # Remove a matched character from string t to ensure character counts are same in both strings\n",
    "        else :\n",
    "            return False\n",
    "    return True\n",
    "\n",
    "if __name__ == \"__main__\":\n",
    "    print(is_anagrams(\"mangom\", \"angoma\"))"
   ]
  },
  {
   "cell_type": "code",
   "execution_count": null,
   "metadata": {},
   "outputs": [],
   "source": []
  },
  {
   "cell_type": "code",
   "execution_count": null,
   "metadata": {},
   "outputs": [],
   "source": []
  }
 ],
 "metadata": {
  "kernelspec": {
   "display_name": "Python 3",
   "language": "python",
   "name": "python3"
  },
  "language_info": {
   "codemirror_mode": {
    "name": "ipython",
    "version": 3
   },
   "file_extension": ".py",
   "mimetype": "text/x-python",
   "name": "python",
   "nbconvert_exporter": "python",
   "pygments_lexer": "ipython3",
   "version": "3.8.5"
  }
 },
 "nbformat": 4,
 "nbformat_minor": 4
}
